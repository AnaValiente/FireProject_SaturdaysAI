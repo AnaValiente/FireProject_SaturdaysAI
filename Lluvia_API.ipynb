{
 "cells": [
  {
   "cell_type": "code",
   "execution_count": 31,
   "metadata": {},
   "outputs": [
    {
     "name": "stderr",
     "output_type": "stream",
     "text": [
      "WARNING:root:Requests made without an app_token will be subject to strict throttling limits.\n"
     ]
    }
   ],
   "source": [
    "#!/usr/bin/env python\n",
    "\n",
    "# make sure to install these packages before running:\n",
    "# pip install pandas\n",
    "# pip install sodapy\n",
    "\n",
    "import pandas as pd\n",
    "from sodapy import Socrata\n",
    "import requests\n",
    "\n",
    "# Unauthenticated client only works with public data sets. Note 'None'\n",
    "# in place of application token, and no username or password:\n",
    "client = Socrata(\"analisi.transparenciacatalunya.cat\", None)\n",
    "\n",
    "\n",
    "# Example authenticated client (needed for non-public datasets):\n",
    "client = Socrata(analisi.transparenciacatalunya.cat,\n",
    "                 MyAppToken,\n",
    "                 userame=\"user@example.com\",\n",
    "                 password=\"AFakePassword\")\n",
    "\n",
    "# First 2000 results, returned as JSON from API / converted to Python list of\n",
    "# dictionaries by sodapy.\n",
    "results = client.get(\"nzvn-apee\", limit=2000)\n",
    "\n",
    "# Convert to pandas DataFrame\n",
    "results_df = pd.DataFrame.from_records(results)\n"
   ]
  },
  {
   "cell_type": "code",
   "execution_count": 59,
   "metadata": {},
   "outputs": [],
   "source": [
    "Username = \"AnaV\"\n",
    "Name = \"Val\"\n",
    "pswrd=\"Senorita1!\"\n",
    "\n",
    "ClaveID = \"cft391pul9r2zk7bai1ggrqcx\"\n",
    "ClaveSecreta = \"2afxjmlc1cepgrcw6lcyxzl0nedd3acit59048s3zm5z14u6l7\"\n",
    "\n",
    "MyAppToken = \"AIiNjkaTYcxeAniR5byrCpu90\"\n",
    "SecretAppToken= \"CiOWvUPe0a3KvSH4qitvPEkCOdd8mng-z_FA\"\n",
    "\n",
    "Meteo = 'analisi.transparenciacatalunya.cat'\n",
    "    "
   ]
  },
  {
   "cell_type": "code",
   "execution_count": 56,
   "metadata": {},
   "outputs": [],
   "source": [
    "#Define Client\n",
    "client = Socrata(Meteo,\n",
    "                 MyAppToken,\n",
    "                 Name,\n",
    "                 pswrd)\n",
    "#Senorita1!\n",
    "#ana@ulyces.co"
   ]
  },
  {
   "cell_type": "code",
   "execution_count": 58,
   "metadata": {},
   "outputs": [
    {
     "ename": "HTTPError",
     "evalue": "403 Client Error: Forbidden.\n\tAuthentication failed: Invalid username or password",
     "output_type": "error",
     "traceback": [
      "\u001b[1;31m---------------------------------------------------------------------------\u001b[0m",
      "\u001b[1;31mHTTPError\u001b[0m                                 Traceback (most recent call last)",
      "\u001b[1;32m<ipython-input-58-995d36f91ade>\u001b[0m in \u001b[0;36m<module>\u001b[1;34m\u001b[0m\n\u001b[1;32m----> 1\u001b[1;33m \u001b[0mresults\u001b[0m \u001b[1;33m=\u001b[0m \u001b[0mclient\u001b[0m\u001b[1;33m.\u001b[0m\u001b[0mget\u001b[0m\u001b[1;33m(\u001b[0m\u001b[1;34m\"nzvn-apee\"\u001b[0m\u001b[1;33m,\u001b[0m \u001b[0mlimit\u001b[0m\u001b[1;33m=\u001b[0m\u001b[1;36m100\u001b[0m\u001b[1;33m)\u001b[0m\u001b[1;33m\u001b[0m\u001b[1;33m\u001b[0m\u001b[0m\n\u001b[0m",
      "\u001b[1;32m~\\Anaconda3\\envs\\Ana1\\lib\\site-packages\\sodapy\\__init__.py\u001b[0m in \u001b[0;36mget\u001b[1;34m(self, dataset_identifier, content_type, **kwargs)\u001b[0m\n\u001b[0;32m    354\u001b[0m \u001b[1;33m\u001b[0m\u001b[0m\n\u001b[0;32m    355\u001b[0m         response = self._perform_request(\"get\", resource, headers=headers,\n\u001b[1;32m--> 356\u001b[1;33m                                          params=params)\n\u001b[0m\u001b[0;32m    357\u001b[0m         \u001b[1;32mreturn\u001b[0m \u001b[0mresponse\u001b[0m\u001b[1;33m\u001b[0m\u001b[1;33m\u001b[0m\u001b[0m\n\u001b[0;32m    358\u001b[0m \u001b[1;33m\u001b[0m\u001b[0m\n",
      "\u001b[1;32m~\\Anaconda3\\envs\\Ana1\\lib\\site-packages\\sodapy\\__init__.py\u001b[0m in \u001b[0;36m_perform_request\u001b[1;34m(self, request_type, resource, **kwargs)\u001b[0m\n\u001b[0;32m    463\u001b[0m         \u001b[1;31m# handle errors\u001b[0m\u001b[1;33m\u001b[0m\u001b[1;33m\u001b[0m\u001b[1;33m\u001b[0m\u001b[0m\n\u001b[0;32m    464\u001b[0m         \u001b[1;32mif\u001b[0m \u001b[0mresponse\u001b[0m\u001b[1;33m.\u001b[0m\u001b[0mstatus_code\u001b[0m \u001b[1;32mnot\u001b[0m \u001b[1;32min\u001b[0m \u001b[1;33m(\u001b[0m\u001b[1;36m200\u001b[0m\u001b[1;33m,\u001b[0m \u001b[1;36m202\u001b[0m\u001b[1;33m)\u001b[0m\u001b[1;33m:\u001b[0m\u001b[1;33m\u001b[0m\u001b[1;33m\u001b[0m\u001b[0m\n\u001b[1;32m--> 465\u001b[1;33m             \u001b[0m_raise_for_status\u001b[0m\u001b[1;33m(\u001b[0m\u001b[0mresponse\u001b[0m\u001b[1;33m)\u001b[0m\u001b[1;33m\u001b[0m\u001b[1;33m\u001b[0m\u001b[0m\n\u001b[0m\u001b[0;32m    466\u001b[0m \u001b[1;33m\u001b[0m\u001b[0m\n\u001b[0;32m    467\u001b[0m         \u001b[1;31m# when responses have no content body (ie. delete, set_permission),\u001b[0m\u001b[1;33m\u001b[0m\u001b[1;33m\u001b[0m\u001b[1;33m\u001b[0m\u001b[0m\n",
      "\u001b[1;32m~\\Anaconda3\\envs\\Ana1\\lib\\site-packages\\sodapy\\__init__.py\u001b[0m in \u001b[0;36m_raise_for_status\u001b[1;34m(response)\u001b[0m\n\u001b[0;32m    517\u001b[0m         \u001b[1;32mif\u001b[0m \u001b[0mmore_info\u001b[0m \u001b[1;32mand\u001b[0m \u001b[0mmore_info\u001b[0m\u001b[1;33m.\u001b[0m\u001b[0mlower\u001b[0m\u001b[1;33m(\u001b[0m\u001b[1;33m)\u001b[0m \u001b[1;33m!=\u001b[0m \u001b[0mresponse\u001b[0m\u001b[1;33m.\u001b[0m\u001b[0mreason\u001b[0m\u001b[1;33m.\u001b[0m\u001b[0mlower\u001b[0m\u001b[1;33m(\u001b[0m\u001b[1;33m)\u001b[0m\u001b[1;33m:\u001b[0m\u001b[1;33m\u001b[0m\u001b[1;33m\u001b[0m\u001b[0m\n\u001b[0;32m    518\u001b[0m             \u001b[0mhttp_error_msg\u001b[0m \u001b[1;33m+=\u001b[0m \u001b[1;34m\".\\n\\t{0}\"\u001b[0m\u001b[1;33m.\u001b[0m\u001b[0mformat\u001b[0m\u001b[1;33m(\u001b[0m\u001b[0mmore_info\u001b[0m\u001b[1;33m)\u001b[0m\u001b[1;33m\u001b[0m\u001b[1;33m\u001b[0m\u001b[0m\n\u001b[1;32m--> 519\u001b[1;33m         \u001b[1;32mraise\u001b[0m \u001b[0mrequests\u001b[0m\u001b[1;33m.\u001b[0m\u001b[0mexceptions\u001b[0m\u001b[1;33m.\u001b[0m\u001b[0mHTTPError\u001b[0m\u001b[1;33m(\u001b[0m\u001b[0mhttp_error_msg\u001b[0m\u001b[1;33m,\u001b[0m \u001b[0mresponse\u001b[0m\u001b[1;33m=\u001b[0m\u001b[0mresponse\u001b[0m\u001b[1;33m)\u001b[0m\u001b[1;33m\u001b[0m\u001b[1;33m\u001b[0m\u001b[0m\n\u001b[0m\u001b[0;32m    520\u001b[0m \u001b[1;33m\u001b[0m\u001b[0m\n\u001b[0;32m    521\u001b[0m \u001b[1;33m\u001b[0m\u001b[0m\n",
      "\u001b[1;31mHTTPError\u001b[0m: 403 Client Error: Forbidden.\n\tAuthentication failed: Invalid username or password"
     ]
    }
   ],
   "source": [
    "results = client.get(\"nzvn-apee\", limit=100)\n"
   ]
  },
  {
   "cell_type": "code",
   "execution_count": 43,
   "metadata": {},
   "outputs": [
    {
     "name": "stderr",
     "output_type": "stream",
     "text": [
      "WARNING:root:Requests made without an app_token will be subject to strict throttling limits.\n"
     ]
    }
   ],
   "source": [
    "results = client2.get(\"nzvn-apee\", limit=10)\n",
    "results_df = pd.DataFrame.from_records(results)\n",
    "results_df.tail()"
   ]
  },
  {
   "cell_type": "code",
   "execution_count": 51,
   "metadata": {},
   "outputs": [
    {
     "name": "stdout",
     "output_type": "stream",
     "text": [
      "<class 'pandas.core.frame.DataFrame'>\n",
      "RangeIndex: 2000 entries, 0 to 1999\n",
      "Data columns (total 8 columns):\n",
      "id               2000 non-null object\n",
      "codi_estacio     2000 non-null object\n",
      "codi_variable    2000 non-null object\n",
      "data_lectura     2000 non-null object\n",
      "valor_lectura    2000 non-null object\n",
      "codi_estat       2000 non-null object\n",
      "codi_base        2000 non-null object\n",
      "data_extrem      965 non-null object\n",
      "dtypes: object(8)\n",
      "memory usage: 125.1+ KB\n"
     ]
    }
   ],
   "source": [
    "client2 =Socrata(\"analisi.transparenciacatalunya.cat\", None)\n",
    "\n",
    "qid = client2.get(\"nzvn-apee\", limit=2000)\n",
    "qid_df = pd.DataFrame.from_records(qid)\n",
    "qid_df.info()\n"
   ]
  },
  {
   "cell_type": "code",
   "execution_count": 53,
   "metadata": {},
   "outputs": [
    {
     "data": {
      "text/html": [
       "<div>\n",
       "<style scoped>\n",
       "    .dataframe tbody tr th:only-of-type {\n",
       "        vertical-align: middle;\n",
       "    }\n",
       "\n",
       "    .dataframe tbody tr th {\n",
       "        vertical-align: top;\n",
       "    }\n",
       "\n",
       "    .dataframe thead th {\n",
       "        text-align: right;\n",
       "    }\n",
       "</style>\n",
       "<table border=\"1\" class=\"dataframe\">\n",
       "  <thead>\n",
       "    <tr style=\"text-align: right;\">\n",
       "      <th></th>\n",
       "      <th>id</th>\n",
       "      <th>codi_estacio</th>\n",
       "      <th>codi_variable</th>\n",
       "      <th>data_lectura</th>\n",
       "      <th>valor_lectura</th>\n",
       "      <th>codi_estat</th>\n",
       "      <th>codi_base</th>\n",
       "      <th>data_extrem</th>\n",
       "    </tr>\n",
       "  </thead>\n",
       "  <tbody>\n",
       "    <tr>\n",
       "      <th>1995</th>\n",
       "      <td>Z2532107130200</td>\n",
       "      <td>Z2</td>\n",
       "      <td>53</td>\n",
       "      <td>2013-07-21T02:00:00.000</td>\n",
       "      <td>1.9</td>\n",
       "      <td>V</td>\n",
       "      <td>SH</td>\n",
       "      <td>2013-07-21T02:11:00.000</td>\n",
       "    </tr>\n",
       "    <tr>\n",
       "      <th>1996</th>\n",
       "      <td>Z2542107130200</td>\n",
       "      <td>Z2</td>\n",
       "      <td>54</td>\n",
       "      <td>2013-07-21T02:00:00.000</td>\n",
       "      <td>310</td>\n",
       "      <td>V</td>\n",
       "      <td>SH</td>\n",
       "      <td>NaN</td>\n",
       "    </tr>\n",
       "    <tr>\n",
       "      <th>1997</th>\n",
       "      <td>Z2362107130200</td>\n",
       "      <td>Z2</td>\n",
       "      <td>36</td>\n",
       "      <td>2013-07-21T02:00:00.000</td>\n",
       "      <td>0</td>\n",
       "      <td>V</td>\n",
       "      <td>SH</td>\n",
       "      <td>NaN</td>\n",
       "    </tr>\n",
       "    <tr>\n",
       "      <th>1998</th>\n",
       "      <td>Z2382107130200</td>\n",
       "      <td>Z2</td>\n",
       "      <td>38</td>\n",
       "      <td>2013-07-21T02:00:00.000</td>\n",
       "      <td>0</td>\n",
       "      <td>V</td>\n",
       "      <td>SH</td>\n",
       "      <td>NaN</td>\n",
       "    </tr>\n",
       "    <tr>\n",
       "      <th>1999</th>\n",
       "      <td>Z2352107130200</td>\n",
       "      <td>Z2</td>\n",
       "      <td>35</td>\n",
       "      <td>2013-07-21T02:00:00.000</td>\n",
       "      <td>0</td>\n",
       "      <td>V</td>\n",
       "      <td>SH</td>\n",
       "      <td>NaN</td>\n",
       "    </tr>\n",
       "  </tbody>\n",
       "</table>\n",
       "</div>"
      ],
      "text/plain": [
       "                  id codi_estacio codi_variable             data_lectura  \\\n",
       "1995  Z2532107130200           Z2            53  2013-07-21T02:00:00.000   \n",
       "1996  Z2542107130200           Z2            54  2013-07-21T02:00:00.000   \n",
       "1997  Z2362107130200           Z2            36  2013-07-21T02:00:00.000   \n",
       "1998  Z2382107130200           Z2            38  2013-07-21T02:00:00.000   \n",
       "1999  Z2352107130200           Z2            35  2013-07-21T02:00:00.000   \n",
       "\n",
       "     valor_lectura codi_estat codi_base              data_extrem  \n",
       "1995           1.9          V        SH  2013-07-21T02:11:00.000  \n",
       "1996           310          V        SH                      NaN  \n",
       "1997             0          V        SH                      NaN  \n",
       "1998             0          V        SH                      NaN  \n",
       "1999             0          V        SH                      NaN  "
      ]
     },
     "execution_count": 53,
     "metadata": {},
     "output_type": "execute_result"
    }
   ],
   "source": [
    "qid_df.tail()\n",
    "\n"
   ]
  },
  {
   "cell_type": "code",
   "execution_count": 54,
   "metadata": {},
   "outputs": [
    {
     "data": {
      "text/plain": [
       "2013-07-21T02:00:00.000    2000\n",
       "Name: data_lectura, dtype: int64"
      ]
     },
     "execution_count": 54,
     "metadata": {},
     "output_type": "execute_result"
    }
   ],
   "source": [
    "qid_df.data_lectura.value_counts()\n"
   ]
  },
  {
   "cell_type": "code",
   "execution_count": null,
   "metadata": {},
   "outputs": [],
   "source": [
    "#https://analisi.transparenciacatalunya.cat/en/profile/edit/developer_settings\n",
    "#https://dev.socrata.com/foundry/analisi.transparenciacatalunya.cat/nzvn-apee\n",
    "#https://analisi.transparenciacatalunya.cat/es/Medi-Ambient/Metadades-estacions-meteorol-giques-autom-tiques/yqwd-vj5e\n",
    "#https://analisi.transparenciacatalunya.cat/es/Medi-Ambient/Dades-meteorol-giques-de-la-XEMA/nzvn-apee"
   ]
  },
  {
   "cell_type": "code",
   "execution_count": 60,
   "metadata": {},
   "outputs": [],
   "source": [
    "import requests\n",
    "import pandas as pd\n",
    "MYAPPTOKENHERE = 'AIiNjkaTYcxeAniR5byrCpu90'\n",
    "api_url = 'http://analisi.transparenciacatalunya.cat/resource/nzvn-apee.json'\n",
    "parameters = {\"$limit\": '5000',\n",
    "              '$$app_token':MYAPPTOKENHERE}\n",
    "response = requests.get(api_url ,params=parameters )\n",
    "df = pd.read_json(response.text)\n",
    "\n"
   ]
  },
  {
   "cell_type": "code",
   "execution_count": 61,
   "metadata": {},
   "outputs": [
    {
     "data": {
      "text/html": [
       "<div>\n",
       "<style scoped>\n",
       "    .dataframe tbody tr th:only-of-type {\n",
       "        vertical-align: middle;\n",
       "    }\n",
       "\n",
       "    .dataframe tbody tr th {\n",
       "        vertical-align: top;\n",
       "    }\n",
       "\n",
       "    .dataframe thead th {\n",
       "        text-align: right;\n",
       "    }\n",
       "</style>\n",
       "<table border=\"1\" class=\"dataframe\">\n",
       "  <thead>\n",
       "    <tr style=\"text-align: right;\">\n",
       "      <th></th>\n",
       "      <th>id</th>\n",
       "      <th>codi_estacio</th>\n",
       "      <th>codi_variable</th>\n",
       "      <th>data_lectura</th>\n",
       "      <th>valor_lectura</th>\n",
       "      <th>codi_estat</th>\n",
       "      <th>codi_base</th>\n",
       "      <th>data_extrem</th>\n",
       "    </tr>\n",
       "  </thead>\n",
       "  <tbody>\n",
       "    <tr>\n",
       "      <th>0</th>\n",
       "      <td>DJ330612180130</td>\n",
       "      <td>DJ</td>\n",
       "      <td>33</td>\n",
       "      <td>2018-12-06T01:30:00.000</td>\n",
       "      <td>99.0</td>\n",
       "      <td>V</td>\n",
       "      <td>SH</td>\n",
       "      <td>NaN</td>\n",
       "    </tr>\n",
       "    <tr>\n",
       "      <th>1</th>\n",
       "      <td>DJ440612180130</td>\n",
       "      <td>DJ</td>\n",
       "      <td>44</td>\n",
       "      <td>2018-12-06T01:30:00.000</td>\n",
       "      <td>99.0</td>\n",
       "      <td>V</td>\n",
       "      <td>SH</td>\n",
       "      <td>2018-12-06T01:32:00.000</td>\n",
       "    </tr>\n",
       "    <tr>\n",
       "      <th>2</th>\n",
       "      <td>DJ030612180130</td>\n",
       "      <td>DJ</td>\n",
       "      <td>3</td>\n",
       "      <td>2018-12-06T01:30:00.000</td>\n",
       "      <td>99.0</td>\n",
       "      <td>V</td>\n",
       "      <td>SH</td>\n",
       "      <td>2018-12-06T01:56:00.000</td>\n",
       "    </tr>\n",
       "    <tr>\n",
       "      <th>3</th>\n",
       "      <td>DJ350612180130</td>\n",
       "      <td>DJ</td>\n",
       "      <td>35</td>\n",
       "      <td>2018-12-06T01:30:00.000</td>\n",
       "      <td>0.0</td>\n",
       "      <td>V</td>\n",
       "      <td>SH</td>\n",
       "      <td>NaN</td>\n",
       "    </tr>\n",
       "    <tr>\n",
       "      <th>4</th>\n",
       "      <td>DJ720612180130</td>\n",
       "      <td>DJ</td>\n",
       "      <td>72</td>\n",
       "      <td>2018-12-06T01:30:00.000</td>\n",
       "      <td>0.0</td>\n",
       "      <td>V</td>\n",
       "      <td>SH</td>\n",
       "      <td>2018-12-06T01:30:00.000</td>\n",
       "    </tr>\n",
       "  </tbody>\n",
       "</table>\n",
       "</div>"
      ],
      "text/plain": [
       "               id codi_estacio  codi_variable             data_lectura  \\\n",
       "0  DJ330612180130           DJ             33  2018-12-06T01:30:00.000   \n",
       "1  DJ440612180130           DJ             44  2018-12-06T01:30:00.000   \n",
       "2  DJ030612180130           DJ              3  2018-12-06T01:30:00.000   \n",
       "3  DJ350612180130           DJ             35  2018-12-06T01:30:00.000   \n",
       "4  DJ720612180130           DJ             72  2018-12-06T01:30:00.000   \n",
       "\n",
       "   valor_lectura codi_estat codi_base              data_extrem  \n",
       "0           99.0          V        SH                      NaN  \n",
       "1           99.0          V        SH  2018-12-06T01:32:00.000  \n",
       "2           99.0          V        SH  2018-12-06T01:56:00.000  \n",
       "3            0.0          V        SH                      NaN  \n",
       "4            0.0          V        SH  2018-12-06T01:30:00.000  "
      ]
     },
     "execution_count": 61,
     "metadata": {},
     "output_type": "execute_result"
    }
   ],
   "source": [
    "df.head()"
   ]
  },
  {
   "cell_type": "code",
   "execution_count": null,
   "metadata": {},
   "outputs": [],
   "source": [
    "api_url = 'http://analisi.transparenciacatalunya.cat/resource/nzvn-apee.json'\n",
    "parameters = {\"$limit\": '5000',\n",
    "              \"codi_variable\": '32',\n",
    "              '$where': 'valor_lectura > 15',\n",
    "              #'$where': 'hora(data_lectura) = 14:30',\n",
    "              '$$app_token': YOURAPPTOKENHERE}\n",
    "response = requests.get(api_url ,params=parameters )\n",
    "response.url"
   ]
  },
  {
   "cell_type": "code",
   "execution_count": null,
   "metadata": {},
   "outputs": [],
   "source": [
    "metadata= pd.read_csv('/')"
   ]
  }
 ],
 "metadata": {
  "kernelspec": {
   "display_name": "Python 3",
   "language": "python",
   "name": "python3"
  },
  "language_info": {
   "codemirror_mode": {
    "name": "ipython",
    "version": 3
   },
   "file_extension": ".py",
   "mimetype": "text/x-python",
   "name": "python",
   "nbconvert_exporter": "python",
   "pygments_lexer": "ipython3",
   "version": "3.6.9"
  }
 },
 "nbformat": 4,
 "nbformat_minor": 2
}
